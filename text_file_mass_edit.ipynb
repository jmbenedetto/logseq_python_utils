{
 "cells": [
  {
   "cell_type": "markdown",
   "metadata": {},
   "source": [
    "# PACKAGES"
   ]
  },
  {
   "cell_type": "code",
   "execution_count": 31,
   "metadata": {},
   "outputs": [],
   "source": [
    "import os\n",
    "import re"
   ]
  },
  {
   "cell_type": "markdown",
   "metadata": {},
   "source": [
    "# PARAMETERS"
   ]
  },
  {
   "cell_type": "code",
   "execution_count": 32,
   "metadata": {},
   "outputs": [],
   "source": [
    "search_n_replacements_ls = [\n",
    "    {\n",
    "        \"search_expression\": r\": \\[\\[JM Benedetto\\]\\]\",\n",
    "        \"replacement_expression\": r\": [[JMB]]\",\n",
    "    },\n",
    "    #    {\"search_expression\": r\": \\[\\[(.*?)\\|.*?\\]\\]\", \"replacement_expression\": r\": [[\\1]]\"},\n",
    "]\n",
    "\n",
    "#: [[actor_Relex Solutions|Relex Solutions]]"
   ]
  },
  {
   "cell_type": "code",
   "execution_count": 33,
   "metadata": {},
   "outputs": [],
   "source": [
    "# mass adjustment of properties after migration from obsidian to logseq\n",
    "\n",
    "# property_list = [\n",
    "#     \"date\",\n",
    "#     # \"start_date\",\n",
    "#     # \"end_date\",\n",
    "#     # \"creation_date\",\n",
    "#     \"client\",\n",
    "#     \"project/area\",\n",
    "#     \"topic\",\n",
    "#     \"para_reference\",\n",
    "# ]\n",
    "\n",
    "# # Generate search and replacement list using list and dict comprehensions\n",
    "# search_n_replacements_ls = [\n",
    "#     {\n",
    "#         \"search_expression\": rf'{property_name}: \"\\[\\[(.*?)\\]\\]\"',\n",
    "#         \"replacement_expression\": rf\"{property_name}: [[\\1]]\",\n",
    "#     }\n",
    "#     for property_name in property_list\n",
    "# ] + [\n",
    "#     {\n",
    "#         \"search_expression\": rf\"{property_name}: '\\[\\[(.*?)\\]\\]'\",\n",
    "#         \"replacement_expression\": rf\"{property_name}: [[\\1]]\",\n",
    "#     }\n",
    "#     for property_name in property_list\n",
    "# ]"
   ]
  },
  {
   "cell_type": "code",
   "execution_count": 34,
   "metadata": {},
   "outputs": [],
   "source": [
    "target_directory = \"/Users/joao.benedetto/logseq_graph/notes\"\n",
    "# target_directory = \"../test_files\""
   ]
  },
  {
   "cell_type": "markdown",
   "metadata": {},
   "source": [
    "# FUNCTIONS"
   ]
  },
  {
   "cell_type": "code",
   "execution_count": 35,
   "metadata": {},
   "outputs": [],
   "source": [
    "def search_and_replace_in_directory(\n",
    "    directory, search_expression, replacement_expression\n",
    "):\n",
    "    # Compile the search regex pattern\n",
    "    search_pattern = re.compile(search_expression)\n",
    "    # print(f\"Compiled search pattern: {search_pattern}\")\n",
    "\n",
    "    # Walk through the directory, including subdirectories\n",
    "    for root, _, files in os.walk(directory):\n",
    "        # print(f\"Searching in directory: {root}\")\n",
    "        for file_name in files:\n",
    "            if file_name.endswith(\".md\"):\n",
    "                file_path = os.path.join(root, file_name)\n",
    "                # print(f\"Processing file: {file_path}\")\n",
    "\n",
    "                # Read the file content\n",
    "                with open(file_path, \"r\", encoding=\"utf-8\") as file:\n",
    "                    content = file.read()\n",
    "                # print(f\"Original content: {content[:100]}...\")  # Print first 100 characters for brevity\n",
    "\n",
    "                # Search and replace using the provided regex\n",
    "                new_content = re.sub(search_pattern, replacement_expression, content)\n",
    "                # print(f\"New content: {new_content[:100]}...\")  # Print first 100 characters for brevity\n",
    "\n",
    "                # If there was a replacement, write the new content back to the file\n",
    "                if new_content != content:\n",
    "                    with open(file_path, \"w\", encoding=\"utf-8\") as file:\n",
    "                        file.write(new_content)\n",
    "                    print(\n",
    "                        f\"Modified: {file_path}, {search_expression}, {replacement_expression}\"\n",
    "                    )\n",
    "                    # break"
   ]
  },
  {
   "cell_type": "markdown",
   "metadata": {},
   "source": [
    "# SCRIPT\n"
   ]
  },
  {
   "cell_type": "code",
   "execution_count": 36,
   "metadata": {},
   "outputs": [],
   "source": [
    "for search_and_replacement in search_n_replacements_ls:\n",
    "    search_and_replace_in_directory(\n",
    "        target_directory,\n",
    "        search_and_replacement[\"search_expression\"],\n",
    "        search_and_replacement[\"replacement_expression\"],\n",
    "    )"
   ]
  },
  {
   "cell_type": "code",
   "execution_count": null,
   "metadata": {},
   "outputs": [],
   "source": []
  },
  {
   "cell_type": "markdown",
   "metadata": {},
   "source": []
  }
 ],
 "metadata": {
  "kernelspec": {
   "display_name": "std_env_v01.01",
   "language": "python",
   "name": "python3"
  },
  "language_info": {
   "codemirror_mode": {
    "name": "ipython",
    "version": 3
   },
   "file_extension": ".py",
   "mimetype": "text/x-python",
   "name": "python",
   "nbconvert_exporter": "python",
   "pygments_lexer": "ipython3",
   "version": "3.12.2"
  }
 },
 "nbformat": 4,
 "nbformat_minor": 2
}
